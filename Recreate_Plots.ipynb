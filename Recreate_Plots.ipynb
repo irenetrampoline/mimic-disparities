{
 "cells": [
  {
   "cell_type": "code",
   "execution_count": 11,
   "metadata": {},
   "outputs": [],
   "source": [
    "import csv\n",
    "import os\n",
    "import numpy as np\n",
    "import pandas as pd\n",
    "import pickle as pk\n",
    "\n",
    "from statsmodels.stats.multicomp import pairwise_tukeyhsd\n",
    "\n",
    "%matplotlib inline\n",
    "from matplotlib import pyplot as plt\n",
    "\n",
    "from run_error import run_all_groups"
   ]
  },
  {
   "cell_type": "markdown",
   "metadata": {},
   "source": [
    "## Analyze topics"
   ]
  },
  {
   "cell_type": "code",
   "execution_count": 12,
   "metadata": {},
   "outputs": [],
   "source": [
    "f = open('data/mallet_topics_2500.txt', 'r')\n",
    "results = csv.reader(f, delimiter='\\t')\n",
    "results_lst = list(results)"
   ]
  },
  {
   "cell_type": "code",
   "execution_count": 13,
   "metadata": {},
   "outputs": [],
   "source": [
    "topics_df = pd.DataFrame(results_lst, columns=['index', 'fname'] + list(range(50)))\n",
    "for i in range(50):\n",
    "    topics_df[i] = topics_df[i].apply(float)\n",
    "\n",
    "topics_df['icustay_id'] = topics_df['fname'].apply(lambda x: x.split('.')[-2].split('/')[-1]).apply(float)"
   ]
  },
  {
   "cell_type": "code",
   "execution_count": 14,
   "metadata": {},
   "outputs": [
    {
     "data": {
      "text/plain": [
       "array([1., 1., 1., 1., 1.])"
      ]
     },
     "execution_count": 14,
     "metadata": {},
     "output_type": "execute_result"
    }
   ],
   "source": [
    "# Check that topic distribution values sum to 1.\n",
    "topics_df[range(50)].head().values.sum(axis=1)"
   ]
  },
  {
   "cell_type": "code",
   "execution_count": 15,
   "metadata": {},
   "outputs": [],
   "source": [
    "patient_info = pd.read_csv('data/patients_info.csv')"
   ]
  },
  {
   "cell_type": "code",
   "execution_count": 16,
   "metadata": {},
   "outputs": [
    {
     "data": {
      "text/plain": [
       "Medicare      14540\n",
       "Private        8186\n",
       "Medicaid       2275\n",
       "Government      650\n",
       "Self Pay        229\n",
       "Name: insurance, dtype: int64"
      ]
     },
     "execution_count": 16,
     "metadata": {},
     "output_type": "execute_result"
    }
   ],
   "source": [
    "patient_info['insurance'].value_counts()"
   ]
  },
  {
   "cell_type": "code",
   "execution_count": 17,
   "metadata": {},
   "outputs": [
    {
     "name": "stdout",
     "output_type": "stream",
     "text": [
      "25880\n",
      "25880\n",
      "25880\n"
     ]
    }
   ],
   "source": [
    "print(len(topics_df))\n",
    "print(len(patient_info))\n",
    "df = topics_df.merge(patient_info, on='icustay_id', how='inner')\n",
    "\n",
    "print(len(df))"
   ]
  },
  {
   "cell_type": "code",
   "execution_count": 18,
   "metadata": {},
   "outputs": [],
   "source": [
    "def insur_pubpriv(x):\n",
    "    if x == 'Medicare' or x == 'Medicaid' or x == 'Government':\n",
    "        return 'public'\n",
    "    elif x == 'Private':\n",
    "        return 'private'\n",
    "    elif x == 'Self Pay':\n",
    "        return 'other'\n",
    "    \n",
    "df['insur_group'] = df['insurance'].apply(insur_pubpriv)\n",
    "\n",
    "dummies = pd.get_dummies(df[['insur_group']])\n",
    "df[dummies.columns] = dummies"
   ]
  },
  {
   "cell_type": "code",
   "execution_count": 19,
   "metadata": {},
   "outputs": [],
   "source": [
    "df['male'] = df['gender']\n",
    "df['female'] = 1 - df['gender']"
   ]
  },
  {
   "cell_type": "code",
   "execution_count": 20,
   "metadata": {},
   "outputs": [
    {
     "name": "stdout",
     "output_type": "stream",
     "text": [
      "Race & Asian & 583 & 14.2 //\n",
      " & Black & 2327 & 10.9 //\n",
      " & Hispanic & 832 & 10.3 //\n",
      " & White & 18377 & 13.4 //\n",
      " & Other & 3761 & 18.4 //\n",
      "\\hline\n",
      "Gender & Female & 11077 & 13.8 //\n",
      " & Male & 14803 & 13.8 //\n",
      "\\hline\n",
      "Insurance & Private & 8186 & 11.2 //\n",
      " & public & 17465 & 15.0 //\n",
      " & public & 229 & 16.6 //\n",
      "\n"
     ]
    }
   ],
   "source": [
    "print('Race & ' + ' & '.join(['Asian', str(df['eth_asian'].sum()), ('%.1f' % (100 * df[df['eth_asian'] == 1]['mort_hosp'].mean()))]) + ' //')\n",
    "print(' & ' + ' & '.join(['Black', str(df['eth_black'].sum()), ('%.1f' % (100 * df[df['eth_black'] == 1]['mort_hosp'].mean()))]) + ' //')\n",
    "print(' & ' + ' & '.join(['Hispanic', str(df['eth_hispanic'].sum()), ('%.1f' % (100 * df[df['eth_hispanic'] == 1]['mort_hosp'].mean()))]) + ' //')\n",
    "print(' & ' + ' & '.join(['White', str(df['eth_white'].sum()), ('%.1f' % (100 * df[df['eth_white'] == 1]['mort_hosp'].mean()))]) + ' //')\n",
    "print(' & ' + ' & '.join(['Other', str(df['eth_other'].sum()), ('%.1f' % (100 * df[df['eth_other'] == 1]['mort_hosp'].mean()))]) + ' //')\n",
    "print('\\hline')\n",
    "print('Gender & ' + ' & '.join(['Female', str(df['female'].sum()), ('%.1f' % (100 * df[df['female'] == 1]['mort_hosp'].mean()))]) + ' //')\n",
    "print(' & ' + ' & '.join(['Male', str(df['male'].sum()), ('%.1f' % (100 * df[df['male'] == 1]['mort_hosp'].mean()))]) + ' //')\n",
    "print('\\hline')\n",
    "print('Insurance & ' + ' & '.join(['Private', str(df['insur_group_private'].sum()), ('%.1f' % (100 * df[df['insur_group_private'] == 1]['mort_hosp'].mean()))]) + ' //')\n",
    "print(' & ' + ' & '.join(['public', str(df['insur_group_public'].sum()), ('%.1f' % (100 * df[df['insur_group_public'] == 1]['mort_hosp'].mean()))]) + ' //')\n",
    "print(' & ' + ' & '.join(['public', str(df['insur_group_other'].sum()), ('%.1f' % (100 * df[df['insur_group_other'] == 1]['mort_hosp'].mean()))]) + ' //')\n",
    "print()"
   ]
  },
  {
   "cell_type": "code",
   "execution_count": 21,
   "metadata": {},
   "outputs": [],
   "source": [
    "q_nk = df[range(50)]\n",
    "\n",
    "feat_cols = ['female', 'male',           u'eth_asian',           u'eth_black',\n",
    "              u'eth_hispanic',           u'eth_white', 'eth_other', \n",
    "       u'insur_group_private',  u'insur_group_public', u'insur_group_other']\n",
    "\n"
   ]
  },
  {
   "cell_type": "code",
   "execution_count": 22,
   "metadata": {},
   "outputs": [],
   "source": [
    "f = open('data/mallet_topics_50_2500.txt', 'r')\n",
    "results = csv.reader(f, delimiter='\\t')\n",
    "results_lst = list(results)\n",
    "topics = pd.DataFrame(results_lst)\n",
    "f.close()"
   ]
  },
  {
   "cell_type": "code",
   "execution_count": 23,
   "metadata": {},
   "outputs": [],
   "source": [
    "top_words = {int(i): i+' &  '+' '.join(j.split(' ')[:5])  for i,j in zip(topics[0].values, topics[2].values)}"
   ]
  },
  {
   "cell_type": "code",
   "execution_count": 24,
   "metadata": {},
   "outputs": [],
   "source": [
    "feat_cols = ['female', 'male',           u'eth_asian',           u'eth_black',\n",
    "              u'eth_hispanic',           u'eth_white', 'eth_other', \n",
    "       u'insur_group_private',  u'insur_group_public', u'insur_group_other']"
   ]
  },
  {
   "cell_type": "code",
   "execution_count": 25,
   "metadata": {},
   "outputs": [
    {
     "name": "stdout",
     "output_type": "stream",
     "text": [
      "Female &  10 &  copd home bipap chronic respiratory  \\\\ \n",
      " &  45 &  artery carotid aneurysm left numeric  \\\\ \n",
      " &  8 &  pain morphine control dilaudid plan  \\\\ \n",
      " &  28 &  lasix sats respiratory mask cxr  \\\\ \n",
      " &  48 &  mass cancer metastatic lung patient  \\\\ \n",
      "\\hline\n",
      "Male &  44 &  etoh abuse ciwa withdrawal alcohol  \\\\ \n",
      " &  47 &  pacer pacemaker icd s/p paced  \\\\ \n",
      " &  20 &  fracture left trauma s/p fractures  \\\\ \n",
      " &  0 &  chest reason tube clip left  \\\\ \n",
      " &  40 &  liver cirrhosis hepatic ascites portal  \\\\ \n",
      "\\hline\n",
      "EthAsian &  48 &  mass cancer metastatic lung patient  \\\\ \n",
      " &  29 &  procedure catheter identifier numeric clip  \\\\ \n",
      " &  13 &  arrest pericardial cardiac effusion s/p  \\\\ \n",
      " &  26 &  pancreatitis ercp hospital biliary pancreatic  \\\\ \n",
      " &  46 &  neuro head left hemorrhage sbp  \\\\ \n",
      "\\hline\n",
      "EthBlack &  6 &  renal dialysis esrd line transplant  \\\\ \n",
      " &  32 &  renal failure insulin acute plan  \\\\ \n",
      " &  10 &  copd home bipap chronic respiratory  \\\\ \n",
      " &  21 &  mental status altered seizure head  \\\\ \n",
      " &  31 &  no(t pain present normal edema  \\\\ \n",
      "\\hline\n",
      "EthHispanic &  40 &  liver cirrhosis hepatic ascites portal  \\\\ \n",
      " &  41 &  pneumonia sputum pna cough fever  \\\\ \n",
      " &  18 &  fever blood cultures culture infection  \\\\ \n",
      " &  45 &  artery carotid aneurysm left numeric  \\\\ \n",
      " &  20 &  fracture left trauma s/p fractures  \\\\ \n",
      "\\hline\n",
      "EthWhite &  2 &  assessment insulin mg/dl plan pain  \\\\ \n",
      " &  12 &  afib atrial coumadin fibrillation rate  \\\\ \n",
      " &  27 &  mg/dl assessment date order meq/l  \\\\ \n",
      " &  16 &  weight assessment mg/dl action response  \\\\ \n",
      " &  11 &  assessment sounds cmh lung ventilation  \\\\ \n",
      "\\hline\n",
      "EthOther &  1 &  neo gtt pain resp neuro  \\\\ \n",
      " &  39 &  ccu iabp cath groin gtt  \\\\ \n",
      " &  20 &  fracture left trauma s/p fractures  \\\\ \n",
      " &  0 &  chest reason tube clip left  \\\\ \n",
      " &  42 &  vent intubated secretions propofol abg  \\\\ \n",
      "\\hline\n",
      "InsurGroupPrivate &  20 &  fracture left trauma s/p fractures  \\\\ \n",
      " &  17 &  hospital lymphoma continue s/p unit  \\\\ \n",
      " &  45 &  artery carotid aneurysm left numeric  \\\\ \n",
      " &  9 &  spine cervical spinal mri cord  \\\\ \n",
      " &  40 &  liver cirrhosis hepatic ascites portal  \\\\ \n",
      "\\hline\n",
      "InsurGroupPublic &  12 &  afib atrial coumadin fibrillation rate  \\\\ \n",
      " &  10 &  copd home bipap chronic respiratory  \\\\ \n",
      " &  47 &  pacer pacemaker icd s/p paced  \\\\ \n",
      " &  6 &  renal dialysis esrd line transplant  \\\\ \n",
      " &  5 &  lasix chf systolic heart failure  \\\\ \n",
      "\\hline\n",
      "InsurGroupOther &  44 &  etoh abuse ciwa withdrawal alcohol  \\\\ \n",
      " &  20 &  fracture left trauma s/p fractures  \\\\ \n",
      " &  9 &  spine cervical spinal mri cord  \\\\ \n",
      " &  49 &  contrast head hemorrhage left clip  \\\\ \n",
      " &  46 &  neuro head left hemorrhage sbp  \\\\ \n",
      "\\hline\n"
     ]
    }
   ],
   "source": [
    "for i,feat in enumerate(feat_cols):\n",
    "    feat_enrich = df[feat].values.dot(q_nk.values) / q_nk.values.sum(axis=0)\n",
    "    top_topic_ind = np.argsort(feat_enrich)[::-1]\n",
    "    for jx, j in enumerate(top_topic_ind[:5]):\n",
    "        prefix = feat.title().replace('_', '') + ' & ' if jx == 0 else ' & '\n",
    "        print(prefix, top_words[j], ' \\\\\\\\ ')\n",
    "    print('\\\\hline')"
   ]
  },
  {
   "cell_type": "markdown",
   "metadata": {},
   "source": [
    "## MIMIC performance"
   ]
  },
  {
   "cell_type": "code",
   "execution_count": 26,
   "metadata": {},
   "outputs": [],
   "source": [
    "# load topics and make graph\n",
    "\n",
    "# calculate accuracy for data"
   ]
  },
  {
   "cell_type": "code",
   "execution_count": 27,
   "metadata": {},
   "outputs": [],
   "source": [
    "if os.path.exists('results/race_LR_all.pk'):\n",
    "    f = open('results/race_LR_all.pk', 'rb')\n",
    "    races = pk.load(f)\n",
    "    f.close()\n",
    "\n",
    "    f = open('results/insurance_LR_all.pk', 'rb')\n",
    "    insurance = pk.load(f)\n",
    "    f.close()\n",
    "\n",
    "    f = open('results/gender_LR_all.pk', 'rb')\n",
    "    gender = pk.load(f)\n",
    "    f.close()\n",
    "else:\n",
    "    # output creates pickle files in results/\n",
    "    run_all_groups(trials=5)"
   ]
  },
  {
   "cell_type": "code",
   "execution_count": 28,
   "metadata": {},
   "outputs": [
    {
     "name": "stdout",
     "output_type": "stream",
     "text": [
      "                zo\n",
      "race              \n",
      "Asian     0.200670\n",
      "Black     0.174361\n",
      "Hispanic  0.153902\n",
      "Other     0.213447\n",
      "White     0.188198\n",
      "              zo\n",
      "race            \n",
      "Female  0.190436\n",
      "Male    0.185183\n",
      "               zo\n",
      "race             \n",
      "Private  0.161898\n",
      "Public   0.199456\n"
     ]
    }
   ],
   "source": [
    "print(races['zo_results'].groupby('race').mean())\n",
    "\n",
    "print(gender['zo_results'].groupby('race').mean())\n",
    "\n",
    "print(insurance['zo_results'].groupby('race').mean())"
   ]
  },
  {
   "cell_type": "code",
   "execution_count": 29,
   "metadata": {},
   "outputs": [],
   "source": [
    "def plot_sim2(tukey, fname='notes', xlabel='Zero-One Loss', xticks=None):\n",
    "    tukey._simultaneous_ci()\n",
    "    means = tukey._multicomp.groupstats.groupmean\n",
    "    minrange = [means[i] - tukey.halfwidths[i] for i in range(len(means))]\n",
    "    maxrange = [means[i] + tukey.halfwidths[i] for i in range(len(means))]\n",
    "\n",
    "    colors = ['#d62728','#1f77b4', '#ff7f0e', '#2ca02c', \n",
    "              '#9467bd', '#8c564b', '#e377c2', '#7f7f7f',\n",
    "              '#bcbd22', '#17becf']\n",
    "#     colors = ['r', 'b', 'g', 'k', 'm']\n",
    "    mks = ['o', '^', 'P', 's', '*']\n",
    "\n",
    "\n",
    "    # x, height, error = range(5), [2] * 4, range(1,5)\n",
    "    # colors = ['red', 'green', 'blue', 'cyan', 'magenta']\n",
    "\n",
    "    fig, ax = plt.subplots()\n",
    "    # ax.bar(x, height, alpha=0.5, color=colors)\n",
    "    ax.margins(0.05)\n",
    "    x_vals = range(len(means))\n",
    "\n",
    "    protected = tukey.groupsunique\n",
    "\n",
    "    errN = dict()\n",
    "    meansN = dict()\n",
    "    mksN = dict()\n",
    "    colorsN = dict()\n",
    "\n",
    "    for pix, p in enumerate(protected):\n",
    "        errN[p] = tukey.halfwidths[pix]\n",
    "        meansN[p] = means[pix]\n",
    "        colorsN[p] = color_cols[p.lower()]\n",
    "        mksN[p] = 's'\n",
    "\n",
    "    sort_prot = sorted(protected)\n",
    "    # pdb.set_trace()\n",
    "    for pix2, p in enumerate(sort_prot):\n",
    "        # print x_vals[pix2], p\n",
    "        ax.errorbar(meansN[p], len(protected) - 1 -x_vals[pix2], marker='s', markersize=20, xerr=errN[p], lw=2, capsize=10, capthick=5, color=colorsN[p], elinewidth=5)\n",
    "\n",
    "    ax.xaxis.grid()\n",
    "\n",
    "    # for mean, x, err, color, mark in zip(means, x_vals, tukey.halfwidths, colors, mks):\n",
    "    #     # pdb.set_trace()\n",
    "    #     ax.errorbar(mean, x, xerr=err, lw=2, capsize=10, capthick=5, color=color, elinewidth=5,marker=mark, markersize=20)\n",
    "\n",
    "    r = np.max(maxrange) - np.min(minrange)\n",
    "    ax.set_ylim([-1, tukey._multicomp.ngroups])\n",
    "    ax.set_xlim([np.min(minrange) - r / 10., np.max(maxrange) + r / 10.])\n",
    "    \n",
    "    def clean_p(x):\n",
    "        spltx = x.split('_')\n",
    "        if len(spltx) == 1:\n",
    "            return x\n",
    "        else:\n",
    "            return spltx[1]\n",
    "        \n",
    "    sort_prot2 = sorted([clean_p(i) for i in protected], reverse=True)\n",
    "    ax.set_yticklabels(sort_prot2, fontsize=16)\n",
    "    ax.set_yticks(np.arange(0, len(means)))\n",
    "    plt.setp(ax.get_xticklabels(), fontsize=12)\n",
    "    if xticks != None:\n",
    "        plt.xticks(xticks)\n",
    "    plt.tight_layout()\n",
    "    plt.xlabel(xlabel, fontsize=16)\n",
    "      \n",
    "#     plt.savefig('plots/%s.pdf' % fname, bbox_inches='tight')"
   ]
  },
  {
   "cell_type": "code",
   "execution_count": 30,
   "metadata": {},
   "outputs": [],
   "source": [
    "color_cols = {\n",
    " 'eth_asian': '#2ca02c', \n",
    "'eth_black':'#ff7f0e',\n",
    " 'eth_hispanic': '#9467bd',\n",
    " 'eth_white':'#bcbd22', \n",
    " 'eth_other':'#7f7f7f',\n",
    "    'asian':'#2ca02c', \n",
    "'black':'#ff7f0e',\n",
    " 'hispanic': '#9467bd',\n",
    " 'white':'#bcbd22', \n",
    " 'other':'#7f7f7f',\n",
    " 'gender_female':'#d62728', \n",
    " 'gender_male':'#1f77b4',\n",
    " 'female':'#d62728', \n",
    " 'male':'#1f77b4',\n",
    "    'gender_woman':'#d62728', \n",
    " 'gender_man':'#1f77b4',\n",
    " 'insurance_private':'#8c564b', \n",
    "    'insurance_public':'#17becf',\n",
    " 'private':'#8c564b', \n",
    "    'public':'#17becf',\n",
    "    'insur_group_public': '#17becf',\n",
    "    'insur_group_private': '#8c564b'\n",
    "\n",
    "}"
   ]
  },
  {
   "cell_type": "markdown",
   "metadata": {},
   "source": [
    "Because of stochasticity, the results may be a little different. For plotting asthetics, change x-ticks as needed."
   ]
  },
  {
   "cell_type": "code",
   "execution_count": 31,
   "metadata": {},
   "outputs": [
    {
     "data": {
      "image/png": "[encoded data removed]",
      "text/plain": [
       "<Figure size 432x288 with 1 Axes>"
      ]
     },
     "metadata": {
      "needs_background": "light"
     },
     "output_type": "display_data"
    }
   ],
   "source": [
    "tukey = pairwise_tukeyhsd(groups=gender['zo_results']['race'], endog=gender['zo_results']['zo'].values)\n",
    "plot_sim2(tukey, fname='mimic_gender', xticks=[0.182, 0.184, 0.186, 0.188, 0.190, 0.192, 0.194])\n",
    "plt.tight_layout()\n",
    "plt.savefig('plots/mimic_gender.pdf', format='pdf', dpi=1000)\n"
   ]
  },
  {
   "cell_type": "code",
   "execution_count": 32,
   "metadata": {},
   "outputs": [
    {
     "data": {
      "image/png": "[encoded data removed]",
      "text/plain": [
       "<Figure size 432x288 with 1 Axes>"
      ]
     },
     "metadata": {
      "needs_background": "light"
     },
     "output_type": "display_data"
    }
   ],
   "source": [
    "tukey = pairwise_tukeyhsd(groups=races['zo_results']['race'], endog=races['zo_results']['zo'].values)\n",
    "plot_sim2(tukey, fname='mimic_race', xticks=[0.15, 0.16, 0.17, 0.18, 0.19, 0.2, 0.21])\n",
    "plt.tight_layout()\n",
    "plt.savefig('plots/mimic_race.pdf', format='pdf', dpi=1200)"
   ]
  },
  {
   "cell_type": "code",
   "execution_count": 33,
   "metadata": {},
   "outputs": [],
   "source": [
    "tukey = pairwise_tukeyhsd(groups=gender['zo_results']['race'], endog=gender['zo_results']['zo'].values)\n"
   ]
  },
  {
   "cell_type": "code",
   "execution_count": 34,
   "metadata": {},
   "outputs": [
    {
     "data": {
      "text/plain": [
       "25880"
      ]
     },
     "execution_count": 34,
     "metadata": {},
     "output_type": "execute_result"
    }
   ],
   "source": [
    "len(gender['zo_results']['zo'].values)"
   ]
  },
  {
   "cell_type": "code",
   "execution_count": 35,
   "metadata": {},
   "outputs": [
    {
     "data": {
      "text/plain": [
       "25880"
      ]
     },
     "execution_count": 35,
     "metadata": {},
     "output_type": "execute_result"
    }
   ],
   "source": [
    "len(gender['zo_results']['race'])"
   ]
  },
  {
   "cell_type": "code",
   "execution_count": 36,
   "metadata": {},
   "outputs": [
    {
     "data": {
      "text/plain": [
       "25688"
      ]
     },
     "execution_count": 36,
     "metadata": {},
     "output_type": "execute_result"
    }
   ],
   "source": [
    "len(insurance['zo_results']['race'])"
   ]
  },
  {
   "cell_type": "code",
   "execution_count": 37,
   "metadata": {},
   "outputs": [
    {
     "data": {
      "text/plain": [
       "25688"
      ]
     },
     "execution_count": 37,
     "metadata": {},
     "output_type": "execute_result"
    }
   ],
   "source": [
    "len(insurance['zo_results']['zo'].values)"
   ]
  },
  {
   "cell_type": "markdown",
   "metadata": {},
   "source": [
    "Note: for some reason, `pairwise_tukeyhsd` had a bug here, so I had to edit to source to `/data/ml2/software/anaconda3/lib/python3.7/site-packages/statsmodels/sandbox/stats/multicomp.py`\n",
    "\n",
    "I added `if type(res[8]"
   ]
  },
  {
   "cell_type": "code",
   "execution_count": 38,
   "metadata": {},
   "outputs": [
    {
     "data": {
      "image/png": "[encoded data removed]",
      "text/plain": [
       "<Figure size 432x288 with 1 Axes>"
      ]
     },
     "metadata": {
      "needs_background": "light"
     },
     "output_type": "display_data"
    }
   ],
   "source": [
    "tukey = pairwise_tukeyhsd(groups=insurance['zo_results']['race'], endog=insurance['zo_results']['zo'].values)\n",
    "plot_sim2(tukey, fname='mimic_insur')\n",
    "plt.tight_layout()\n",
    "plt.savefig('plots/mimic_insur.pdf', format='pdf', dpi=1200)"
   ]
  },
  {
   "cell_type": "markdown",
   "metadata": {},
   "source": [
    "## Plot MIMIC Topics"
   ]
  },
  {
   "cell_type": "code",
   "execution_count": 39,
   "metadata": {},
   "outputs": [],
   "source": [
    "# create data (q_nk) from df\n",
    "data = dict()\n",
    "\n",
    "for i,feat in enumerate(feat_cols):\n",
    "    feat_enrich = df[feat].values.dot(q_nk.values) / q_nk.values.sum(axis=0)\n",
    "    data[feat] = feat_enrich"
   ]
  },
  {
   "cell_type": "code",
   "execution_count": 40,
   "metadata": {},
   "outputs": [],
   "source": [
    "valid_cols = [\n",
    " 'eth_asian',\n",
    "'eth_black',\n",
    " 'eth_hispanic',\n",
    " 'eth_white',\n",
    " 'eth_other',\n",
    " 'female', \n",
    "    'male',\n",
    " 'insur_group_private',\n",
    "    'insur_group_public',\n",
    "]\n",
    "\n",
    "race_cols = [\n",
    " 'eth_asian',\n",
    "'eth_black',\n",
    " 'eth_hispanic',\n",
    " 'eth_white',\n",
    " 'eth_other'\n",
    "]\n",
    "\n",
    "gender_cols = [  'female','male',\n",
    "]\n",
    "\n",
    "insur_cols = [ 'insur_group_private',\n",
    "    'insur_group_public'\n",
    "]"
   ]
  },
  {
   "cell_type": "code",
   "execution_count": 41,
   "metadata": {},
   "outputs": [],
   "source": [
    "# Base rates for dataset, hard-coded\n",
    "\n",
    "N = len(df) * 1.\n",
    "\n",
    "base_rates = {\n",
    " 'eth_asian':583/N,\n",
    "'eth_black':2327/N,\n",
    " 'eth_hispanic':832/N,\n",
    " 'eth_white': 18377/N,\n",
    " 'eth_other': 3761/N,\n",
    " 'female':11077/N, \n",
    "'male':14803/N,\n",
    " 'insur_group_private':8186/N,\n",
    " 'insur_group_public':(17465)/N,\n",
    "}"
   ]
  },
  {
   "cell_type": "code",
   "execution_count": 42,
   "metadata": {},
   "outputs": [],
   "source": [
    "race_enrich = dict()\n",
    "gender_enrich = dict()\n",
    "insur_enrich = dict()\n",
    "\n",
    "# rand_topics = [random.randint(0,49) for i in xrange(5)]\n",
    "\n",
    "# for t in topics:\n",
    "for t in range(50):\n",
    "    results = list()\n",
    "    for col in race_cols:\n",
    "        results.append(data[col][t] / data[col].sum())\n",
    "    race_enrich[t] = results\n",
    "    \n",
    "    results = list()\n",
    "    for col in gender_cols:\n",
    "        results.append(data[col][t] / data[col].sum())\n",
    "    gender_enrich[t] = results\n",
    "    \n",
    "    results = list()\n",
    "    for col in insur_cols:\n",
    "        results.append(data[col][t] / data[col].sum())\n",
    "    insur_enrich[t] = results"
   ]
  },
  {
   "cell_type": "code",
   "execution_count": 43,
   "metadata": {},
   "outputs": [],
   "source": [
    "topic_titles = {\n",
    "    48:'Cancer',\n",
    "    10: 'COPD',\n",
    "    44: 'Substance abuse',\n",
    "    13: 'Cardiac arrest',\n",
    "    21: 'Cognitive issues',\n",
    "    5: 'Heart failure',\n",
    "    6: 'Renal failure'\n",
    "}"
   ]
  },
  {
   "cell_type": "code",
   "execution_count": 44,
   "metadata": {},
   "outputs": [
    {
     "name": "stdout",
     "output_type": "stream",
     "text": [
      "Cancer 48\n",
      "COPD 10\n",
      "Substance abuse 44\n",
      "Cardiac arrest 13\n",
      "Cognitive issues 21\n",
      "Heart failure 5\n",
      "Renal failure 6\n"
     ]
    },
    {
     "data": {
      "image/png": "[encoded data removed]",
      "text/plain": [
       "<Figure size 432x288 with 1 Axes>"
      ]
     },
     "metadata": {
      "needs_background": "light"
     },
     "output_type": "display_data"
    },
    {
     "data": {
      "image/png": "[encoded data removed]",
      "text/plain": [
       "<Figure size 432x288 with 1 Axes>"
      ]
     },
     "metadata": {
      "needs_background": "light"
     },
     "output_type": "display_data"
    },
    {
     "data": {
      "image/png": "[encoded data removed]",
      "text/plain": [
       "<Figure size 432x288 with 1 Axes>"
      ]
     },
     "metadata": {
      "needs_background": "light"
     },
     "output_type": "display_data"
    },
    {
     "data": {
      "image/png": "[encoded data removed]",
      "text/plain": [
       "<Figure size 432x288 with 1 Axes>"
      ]
     },
     "metadata": {
      "needs_background": "light"
     },
     "output_type": "display_data"
    },
    {
     "data": {
      "image/png": "[encoded data removed]",
      "text/plain": [
       "<Figure size 432x288 with 1 Axes>"
      ]
     },
     "metadata": {
      "needs_background": "light"
     },
     "output_type": "display_data"
    },
    {
     "data": {
      "image/png": "[encoded data removed]",
      "text/plain": [
       "<Figure size 432x288 with 1 Axes>"
      ]
     },
     "metadata": {
      "needs_background": "light"
     },
     "output_type": "display_data"
    },
    {
     "data": {
      "image/png": "[encoded data removed]",
      "text/plain": [
       "<Figure size 432x288 with 1 Axes>"
      ]
     },
     "metadata": {
      "needs_background": "light"
     },
     "output_type": "display_data"
    }
   ],
   "source": [
    "for topic_num in topic_titles:\n",
    "    bar_width=0.85\n",
    "\n",
    "    # pdb.set_trace()\n",
    "\n",
    "    plt.figure()\n",
    "    plt.grid(alpha=0.25)\n",
    "    barlist0 = plt.bar(np.arange(5), race_enrich[topic_num], bar_width, )\n",
    "    barlist1 = plt.bar(np.arange(6,8), gender_enrich[topic_num], bar_width)\n",
    "    barlist2 = plt.bar(np.arange(9,11), insur_enrich[topic_num], bar_width)\n",
    "    plt.ylabel('Topic enrichment', fontsize=14)\n",
    "\n",
    "    colors = ['#d62728','#1f77b4', '#ff7f0e', '#2ca02c', \n",
    "              '#9467bd', '#8c564b', '#e377c2', '#7f7f7f',\n",
    "              '#bcbd22', '#17becf']\n",
    "#     colors = ['r', 'b', 'g','k','m']\n",
    "\n",
    "    for i,c in enumerate(race_cols):\n",
    "        barlist0[i].set_color(color_cols[c])\n",
    "    \n",
    "    for i,c in enumerate(gender_cols):\n",
    "        barlist1[i].set_color(color_cols[c])\n",
    "        \n",
    "    for i,c in enumerate(insur_cols):\n",
    "        barlist2[i].set_color(color_cols[c])\n",
    "\n",
    "    race_labels = ['Asian', 'Black', 'Hispanic', 'White', 'Other']\n",
    "    gender_labels = ['Female', 'Male']\n",
    "    insur_labels = ['Private', 'Public']\n",
    "    plt.xticks([0,1,2,3,4, 6,7, 9,10], race_labels + gender_labels+insur_labels, fontsize=14, ha='right', rotation=90)\n",
    "    def autolabel(rects, topic_n):\n",
    "        \"\"\"\n",
    "        Attach a text label above each bar displaying its height\n",
    "        \"\"\"\n",
    "        for ri, rect in enumerate(rects):\n",
    "            height = rect.get_height()\n",
    "            plt.text(rect.get_x() -0.08, height + 0.0055,\n",
    "                    '%d' % int(prev[:,topic_n][ri]),\n",
    "                    ha='left', va='bottom', fontsize=17)\n",
    "\n",
    "    print(topic_titles[topic_num], topic_num)\n",
    "    plt.title('%s (Topic %d)' % (topic_titles[topic_num], topic_num), fontsize=18)\n",
    "    plt.savefig('plots/mimic_topics_%s.pdf' % topic_num, bbox_inches='tight')"
   ]
  },
  {
   "cell_type": "code",
   "execution_count": null,
   "metadata": {},
   "outputs": [],
   "source": []
  }
 ],
 "metadata": {
  "kernelspec": {
   "display_name": "Python 3",
   "language": "python",
   "name": "python3"
  },
  "language_info": {
   "codemirror_mode": {
    "name": "ipython",
    "version": 3
   },
   "file_extension": ".py",
   "mimetype": "text/x-python",
   "name": "python",
   "nbconvert_exporter": "python",
   "pygments_lexer": "ipython3",
   "version": "3.7.3"
  }
 },
 "nbformat": 4,
 "nbformat_minor": 4
}
